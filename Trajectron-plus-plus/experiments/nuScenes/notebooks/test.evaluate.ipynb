{
 "cells": [
  {
   "cell_type": "markdown",
   "id": "abstract-colony",
   "metadata": {},
   "source": [
    "Test evaluation functions"
   ]
  },
  {
   "cell_type": "code",
   "execution_count": 11,
   "id": "surprised-daughter",
   "metadata": {},
   "outputs": [],
   "source": [
    "%matplotlib inline\n",
    "import os\n",
    "import sys\n",
    "import json\n",
    "from glob import glob\n",
    "from timeit import default_timer as timer\n",
    "\n",
    "import tabulate\n",
    "from tqdm import tqdm\n",
    "import numpy as np\n",
    "import pandas as pd\n",
    "import h5py\n",
    "import scipy\n",
    "import scipy.interpolate\n",
    "import scipy.stats\n",
    "import torch\n",
    "import dill\n",
    "import matplotlib.pyplot as plt\n",
    "import matplotlib.cm as cm\n",
    "import matplotlib.ticker as ticker\n",
    "import matplotlib.colors as colors\n",
    "import matplotlib.patheffects as pe\n",
    "import matplotlib.animation as animation\n",
    "\n",
    "import utility as util\n",
    "from collect.visualize.trajectron import render_roads\n",
    "from collect.predict.trajectron import generate_vehicle_latents\n",
    "\n",
    "from helper import load_model, prediction_output_to_trajectories\n",
    "from model.dataset import get_timesteps_data\n",
    "from model.model_utils import ModeKeys\n",
    "\n",
    "pd.set_option('io.hdf.default_format','table')\n",
    "AGENT_COLORS = [\n",
    "        'blue', 'darkviolet', 'dodgerblue', 'darkturquoise',\n",
    "        'green', 'gold', 'orange', 'red', 'deeppink']\n",
    "AGENT_COLORS = np.array(AGENT_COLORS) \\\n",
    "        .take([(i * 5) % len(AGENT_COLORS) for i in range(17)], 0)\n",
    "NCOLORS = len(AGENT_COLORS)\n",
    "\n",
    "def get_ego_node(nodes):\n",
    "    nodes = filter(lambda k: 'VEHICLE/ego' in repr(k), nodes)\n",
    "    return next(nodes)\n",
    "\n",
    "def get_scene(s):\n",
    "    sel_scenes = list(filter(lambda scene : scene.name in [s], eval_scenes))\n",
    "    print(sel_scenes)\n",
    "    scene = sel_scenes[0]\n",
    "    return scene"
   ]
  },
  {
   "cell_type": "markdown",
   "id": "adjustable-waters",
   "metadata": {},
   "source": [
    "Search datasets"
   ]
  },
  {
   "cell_type": "code",
   "execution_count": 2,
   "id": "affiliated-powder",
   "metadata": {},
   "outputs": [
    {
     "data": {
      "text/plain": [
       "[]"
      ]
     },
     "execution_count": 2,
     "metadata": {},
     "output_type": "execute_result"
    }
   ],
   "source": [
    "search_datasets = False\n",
    "dataset_dir = \"../../../..\"\n",
    "glob(f\"{ dataset_dir }/**/*.pkl\") if search_datasets else []"
   ]
  },
  {
   "cell_type": "markdown",
   "id": "considered-incident",
   "metadata": {},
   "source": [
    "Load a dataset"
   ]
  },
  {
   "cell_type": "code",
   "execution_count": 3,
   "id": "fatal-ensemble",
   "metadata": {},
   "outputs": [
    {
     "name": "stdout",
     "output_type": "stream",
     "text": [
      "CARLA synthesized dataset with heading fix, occlusion fix, and 32 timesteps.\n"
     ]
    }
   ],
   "source": [
    "dataset_0 = util.AttrDict(\n",
    "    test_set_path='../../processed/nuScenes_test_full.pkl',\n",
    "    desc=\"NuScenes test set\")\n",
    "\n",
    "dataset_1 = util.AttrDict(\n",
    "    test_set_path='/home/fireofearth/code/robotics/carla-collect/carla_v2_dataset/carla_test_v2_full.pkl',\n",
    "    desc=\"CARLA synthesized dataset\",\n",
    "    v2_bitmap=True)\n",
    "\n",
    "dataset_2 = util.AttrDict(\n",
    "    test_set_path='/home/fireofearth/code/robotics/carla-collect/carla_v2_1_dataset/carla_test_v2_1_full.pkl',\n",
    "    desc=\"CARLA synthesized dataset with bitmap matching NuScenes\")\n",
    "\n",
    "dataset_3 = util.AttrDict(\n",
    "    test_set_path='/home/fireofearth/code/robotics/carla-collect/carla_v2_1_1_dataset/carla_test_v2_1_1_full.pkl',\n",
    "    desc=\"CARLA synthesized dataset smaller sized\")\n",
    "\n",
    "dataset_4 = util.AttrDict(\n",
    "        test_set_path=f\"{ dataset_dir }/carla_v3_0_1_dataset/carla_test_v3_0_1_full.pkl\",\n",
    "        name='carla_train_v3_0_1',\n",
    "        desc=\"CARLA synthesized dataset smaller sized with heading fix\",\n",
    "        v2_bitmap=True)\n",
    "\n",
    "dataset_5 = util.AttrDict(\n",
    "        test_set_path=f\"{ dataset_dir }/carla_v3-1_dataset/v3-1_split1_test.pkl\",\n",
    "        name='v3-1_split1_test',\n",
    "        desc=\"CARLA synthesized dataset with heading fix, occlusion fix, and 32 timesteps.\")\n",
    "\n",
    "dataset_6 = util.AttrDict(\n",
    "        test_set_path=f\"{ dataset_dir }/carla_v3-1-1_dataset/v3-1-1_split1_test.pkl\",\n",
    "        name='v3-1-1_split1_test',\n",
    "        desc=\"CARLA synthesized dataset with heading fix, occlusion fix, and 32 timesteps.\")\n",
    "\n",
    "dataset = dataset_6\n",
    "with open(dataset.test_set_path, 'rb') as f:\n",
    "    eval_env = dill.load(f, encoding='latin1')\n",
    "eval_scenes = eval_env.scenes\n",
    "print(dataset.desc)"
   ]
  },
  {
   "cell_type": "markdown",
   "id": "military-voltage",
   "metadata": {},
   "source": [
    "Search models"
   ]
  },
  {
   "cell_type": "markdown",
   "id": "lined-arena",
   "metadata": {},
   "source": [
    "- 20210621 one model trained on NuScenes.\n",
    "- 20210801 have models trained from v3-1-1 (train set has 200 scenes). Compare MapV2, MapV3.\n",
    "- 20210802 have models trained from v3-1-1. MapV5 squeezes map encoding to size 32 using FC.\n",
    "- 20210803 have models trained from v3-1-1. Compare map, mapV4. MapV4 with multi K values. MapV4 does not apply FC. May have size 100 or 150.\n",
    "- 20210804 have models trained from v3-1 (train set has 300 scenes). Compare map with mapV4.\n",
    "- 20210812 have models trained from v3-1-1 rebalanced. Models are trained 20 epochs.\n",
    "- 20210815 have models trained from v3-1-1 rebalanced. Models are trained 40 epochs.\n",
    "- 20210816 have models trained from v3-1-2 (train set has 600 scenes) rebalanced."
   ]
  },
  {
   "cell_type": "code",
   "execution_count": 4,
   "id": "cathedral-novelty",
   "metadata": {},
   "outputs": [],
   "source": [
    "search_dirs = False\n",
    "[x for x in glob('../models/*')] if search_dirs else None"
   ]
  },
  {
   "cell_type": "code",
   "execution_count": 5,
   "id": "applied-intellectual",
   "metadata": {},
   "outputs": [],
   "source": [
    "search_models = False\n",
    "[x[0] for x in os.walk('../models')] if search_models else None"
   ]
  },
  {
   "cell_type": "markdown",
   "id": "changing-bahamas",
   "metadata": {},
   "source": [
    "Load a model"
   ]
  },
  {
   "cell_type": "code",
   "execution_count": 6,
   "id": "phantom-console",
   "metadata": {},
   "outputs": [
    {
     "name": "stdout",
     "output_type": "stream",
     "text": [
      "\n",
      "Loading from ../models/20210816/models_17_Aug_2021_13_25_38_carla_v3-1-2_base_distmapV4_modfm_K15_ph8/model_registrar-20.pt\n",
      "Loaded!\n",
      "\n",
      "??? model (trained on carla v3-1-2 dataset w/ rebalancing)\n"
     ]
    }
   ],
   "source": [
    "model_1 = util.AttrDict(\n",
    "        path='../models/20210622/models_20_Jun_2021_23_53_04_carla_v2_1_dynmap',\n",
    "        desc=\"Base model +Dynamics Integration, Maps with K=25 latent values \"\n",
    "             \"(on carla v2_1 dataset)\")\n",
    "\n",
    "model_2 = util.AttrDict(\n",
    "        path='../models/20210603/models_06_Jun_2021_17_02_01_carla_v2_K12',\n",
    "        desc=\"Base model +Dynamics Integration, Maps with K=12 latent values \"\n",
    "             \"(on carla v2 dataset with different bitmap schema)\",\n",
    "        v2_bitmap=True)\n",
    "\n",
    "model_3 = util.AttrDict(\n",
    "        path='../models/20210622/models_19_Mar_2021_22_14_19_int_ee_me_ph8',\n",
    "        desc=\"Base model +Dynamics Integration, Maps with K=25 latent values \"\n",
    "             \"(on NuScenes dataset)\")\n",
    "\n",
    "model_4 = util.AttrDict(\n",
    "        path='../models/20210713/models_03_Jul_2021_23_44_36_carla_v2_1_dynmap_K6',\n",
    "        desc=\"Base model +Dynamics Integration, Maps with K=6 latent values \"\n",
    "             \"(on carla v2_1 dataset)\")\n",
    "\n",
    "model_5 = util.AttrDict(\n",
    "        path='../models/20210610/models_16_Jun_2021_20_33_57_carla_v2_base_ph6',\n",
    "        desc=\"Base model with K=25 latent values \"\n",
    "             \"(on carla v2 dataset with different bitmap schema)\",\n",
    "        v2_bitmap=True)\n",
    "\n",
    "model_9 = util.AttrDict(\n",
    "        path='../models/models_19_Jul_2021_21_09_20_carla_v3_0_1_base_dist_ph6',\n",
    "        desc=\"Base model with integrate distribution and heading fix \"\n",
    "             \"(trained on small carla v3_0_1 dataset)\",\n",
    "        v2_bitmap=True)\n",
    "\n",
    "model_10 = util.AttrDict(\n",
    "        path='../models/models_19_Jul_2021_22_45_29_carla_v3_0_1_base_distmap_ph6',\n",
    "        desc=\"Base +Map model with integrate distribution and heading fix \"\n",
    "             \"(trained on small carla v3_0_1 dataset)\",\n",
    "        v2_bitmap=True)\n",
    "\n",
    "model_11 = util.AttrDict(\n",
    "        path='../models/models_20_Jul_2021_11_48_11_carla_v3_0_1_base_distmap_ph8',\n",
    "        desc=\"Base +Map model with heading fix, PH=8 \"\n",
    "             \"(trained on small carla v3_0_1 dataset)\",\n",
    "        v2_bitmap=True)\n",
    "\n",
    "model_12 = util.AttrDict(\n",
    "        path='../models/20210804/models_25_Jul_2021_15_29_29_carla_v3-1_base_distmap_ph8',\n",
    "        desc=\"Base +Map model with heading fix, PH=8, K=25 \"\n",
    "             \"(trained on carla v3-1 dataset)\")\n",
    "\n",
    "model_13 = util.AttrDict(\n",
    "        path='../models/20210725/models_25_Jul_2021_15_37_17_carla_v3-1_base_distmap_K20_ph8',\n",
    "        desc=\"Base +Map model with heading fix, PH=8, K=20 \"\n",
    "             \"(trained on carla v3-1 dataset)\")\n",
    "\n",
    "model_14 = util.AttrDict(\n",
    "        path='../models/20210725/models_25_Jul_2021_15_38_46_carla_v3-1_base_distmap_K15_ph8',\n",
    "        desc=\"Base +Map model with heading fix, PH=8, K=15 \"\n",
    "             \"(trained on carla v3-1 dataset)\")\n",
    "\n",
    "model_15 = util.AttrDict(\n",
    "        path='../models/20210725/models_25_Jul_2021_15_38_20_carla_v3-1_base_distmap_K10_ph8',\n",
    "        desc=\"Base +Map model with heading fix, PH=8, K=10 \"\n",
    "             \"(trained on carla v3-1 dataset)\")\n",
    "\n",
    "model_16 = util.AttrDict(\n",
    "        path='../models/20210725/models_25_Jul_2021_15_39_52_carla_v3-1_base_distmap_K5_ph8',\n",
    "        desc=\"Base +Map model with heading fix, PH=8, K=5 \"\n",
    "             \"(trained on carla v3-1 dataset)\")\n",
    "\n",
    "model_17 = util.AttrDict(\n",
    "        path='../models/20210801/models_01_Aug_2021_20_02_57_carla_v3-1-1_base_distmapV3_ph8',\n",
    "        desc=\"Base +MapV2 model with heading fix, PH=8, K=25 \"\n",
    "             \"(trained on smaller carla v3-1-1 dataset)\")\n",
    "\n",
    "model_18 = util.AttrDict(\n",
    "        path='../models/20210802/models_02_Aug_2021_19_29_27_carla_v3-1-1_base_distmapV4_ph8',\n",
    "        desc=\"Base +MapV4 model with heading fix, PH=8, K=25 \"\n",
    "             \"(trained on smaller carla v3-1-1 dataset)\")\n",
    "\n",
    "model_19 = util.AttrDict(\n",
    "        path='../models/20210803/models_03_Aug_2021_13_42_51_carla_v3-1-1_base_distmapV4_ph8',\n",
    "        desc=\"Base +MapV4-1 model with heading fix, PH=8, K=25 \"\n",
    "             \"(trained on smaller carla v3-1-1 dataset)\")\n",
    "\n",
    "model_20 = util.AttrDict(\n",
    "        path='../models/20210804/models_04_Aug_2021_19_14_01_carla_v3-1_base_distmapV4_ph8',\n",
    "        desc=\"Base +MapV4-1 model with heading fix, PH=8, K=25 \"\n",
    "             \"(trained on carla v3-1 dataset)\")\n",
    "\n",
    "model_21 = util.AttrDict(\n",
    "        path='../models/20210803/models_05_Aug_2021_21_29_38_carla_v3-1-1_base_distmapV4_K5_ph8',\n",
    "        desc=\"Base +MapV4-1 model with heading fix, PH=8, K=5 \"\n",
    "             \"(trained on smaller carla v3-1-1 dataset)\")\n",
    "\n",
    "model_22 = util.AttrDict(\n",
    "        path='../models/20210816/models_17_Aug_2021_13_25_38_carla_v3-1-2_base_distmapV4_modfm_K15_ph8',\n",
    "        desc=\"??? model \"\n",
    "             \"(trained on carla v3-1-2 dataset w/ rebalancing)\")\n",
    "\n",
    "model = model_22\n",
    "eval_stg, hyp = load_model(model.path, eval_env, ts=20)#, device='cuda')\n",
    "print(model.desc)"
   ]
  },
  {
   "cell_type": "markdown",
   "id": "broken-riding",
   "metadata": {},
   "source": [
    "## Combining forecast and map"
   ]
  },
  {
   "cell_type": "code",
   "execution_count": 7,
   "id": "sunrise-resolution",
   "metadata": {},
   "outputs": [],
   "source": [
    "def produce_predictions(ax, scene, timestep, predictconfig, eval_stg, hyp):\n",
    "    t = timestep\n",
    "    max_hl = hyp['maximum_history_length']\n",
    "    timesteps = np.array([t])\n",
    "    with torch.no_grad():\n",
    "        predictions = eval_stg.predict(scene,\n",
    "                timesteps, predictconfig.ph, num_samples=predictconfig.num_samples,\n",
    "                    z_mode=predictconfig.z_mode,\n",
    "                    gmm_mode=predictconfig.gmm_mode,\n",
    "                    full_dist=predictconfig.full_dist,\n",
    "                    all_z_sep=predictconfig.all_z_sep)\n",
    "\n",
    "    prediction_dict, histories_dict, futures_dict = \\\n",
    "        prediction_output_to_trajectories(\n",
    "            predictions, dt=scene.dt, max_h=max_hl, ph=predictconfig.ph, map=None)\n",
    "\n",
    "    v_nodes = list(filter(lambda k: 'VEHICLE' in repr(k), predictions[t].keys()))\n",
    "    render_roads(ax, scene)\n",
    "\n",
    "    for idx, node in enumerate(v_nodes):\n",
    "        player_future = futures_dict[t][node]\n",
    "        player_past = histories_dict[t][node]\n",
    "        player_predict = prediction_dict[t][node]\n",
    "\n",
    "        ax.plot(player_future[:,0], player_future[:,1],\n",
    "                    marker='s', color=AGENT_COLORS[idx % NCOLORS],\n",
    "                    linewidth=1, markersize=8, markerfacecolor='none')\n",
    "        ax.plot(player_past[:,0], player_past[:,1],\n",
    "                    marker='d', color=AGENT_COLORS[idx % NCOLORS],\n",
    "                    linewidth=1, markersize=8, markerfacecolor='none')\n",
    "        if getattr(predictconfig, 'show_predictions', True):\n",
    "            for row in player_predict[0]:\n",
    "                ax.plot(row[:,0], row[:,1],\n",
    "                        marker='o', color=AGENT_COLORS[idx % NCOLORS],\n",
    "                        linewidth=1, markersize=4, alpha=getattr(predictconfig, 'alpha', 0.1))"
   ]
  },
  {
   "cell_type": "code",
   "execution_count": 8,
   "id": "loose-excerpt",
   "metadata": {},
   "outputs": [],
   "source": [
    "num_samples = 2000\n",
    "ph = 8\n",
    "\n",
    "def get_scene_2():\n",
    "    \"\"\"example where many models are not multi-modal in v3-1-1 dataset\"\"\"\n",
    "    idx, t = 28, 7\n",
    "    return eval_scenes[idx], t\n",
    "\n",
    "def get_scene_3():\n",
    "    \"\"\"example of vehicle slowly turning right v3-1-1 dataset\"\"\"\n",
    "    idx, t = 30, 17\n",
    "    return eval_scenes[idx], t\n",
    "\n",
    "scene, timestep = get_scene_2()"
   ]
  },
  {
   "cell_type": "markdown",
   "id": "pending-satin",
   "metadata": {},
   "source": [
    "Used for most types of visualization, and to compute average FDE score"
   ]
  },
  {
   "cell_type": "code",
   "execution_count": 9,
   "id": "rocky-consideration",
   "metadata": {},
   "outputs": [
    {
     "data": {
      "image/png": "[encoded data removed]",
      "text/plain": [
       "<Figure size 864x1080 with 1 Axes>"
      ]
     },
     "metadata": {
      "needs_background": "light"
     },
     "output_type": "display_data"
    }
   ],
   "source": [
    "predictconfig = util.AttrDict(ph=8, num_samples=100, z_mode=False, gmm_mode=False,\n",
    "        full_dist=False, all_z_sep=False, show_predictions=True)\n",
    "\n",
    "fig, ax = plt.subplots(figsize=(12,15))\n",
    "produce_predictions(ax, scene, timestep, predictconfig, eval_stg, hyp)\n",
    "\n",
    "extent = np.array([0, scene.x_size, 0, scene.y_size])\n",
    "should_zoom_in = False\n",
    "if should_zoom_in:\n",
    "    zoom = np.array([70, 70])\n",
    "    extent += np.array([zoom[0], -zoom[0], zoom[1], -zoom[1]])\n",
    "ax.set_xlim([extent[0], extent[1]])\n",
    "ax.set_ylim([extent[2], extent[3]])\n",
    "None"
   ]
  },
  {
   "cell_type": "markdown",
   "id": "usual-zoning",
   "metadata": {},
   "source": [
    "This is used to compute the FDE Most Likely metric. Sample the GMM's mode for the most likely latent."
   ]
  },
  {
   "cell_type": "code",
   "execution_count": 10,
   "id": "therapeutic-regulation",
   "metadata": {},
   "outputs": [
    {
     "data": {
      "image/png": "[encoded data removed]",
      "text/plain": [
       "<Figure size 864x1080 with 1 Axes>"
      ]
     },
     "metadata": {
      "needs_background": "light"
     },
     "output_type": "display_data"
    }
   ],
   "source": [
    "predictconfig = util.AttrDict(ph=8, num_samples=1, z_mode=True, gmm_mode=True,\n",
    "        full_dist=False, all_z_sep=False, show_predictions=True, alpha=1)\n",
    "\n",
    "fig, ax = plt.subplots(figsize=(12,15))\n",
    "produce_predictions(ax, scene, timestep, predictconfig, eval_stg, hyp)\n",
    "\n",
    "extent = np.array([0, scene.x_size, 0, scene.y_size])\n",
    "should_zoom_in = True\n",
    "if should_zoom_in:\n",
    "    zoom = np.array([70, 70])\n",
    "    extent += np.array([zoom[0], -zoom[0], zoom[1], -zoom[1]])\n",
    "ax.set_xlim([extent[0], extent[1]])\n",
    "ax.set_ylim([extent[2], extent[3]])\n",
    "None"
   ]
  },
  {
   "cell_type": "markdown",
   "id": "fifty-nerve",
   "metadata": {},
   "source": [
    "Sample one prediction per latent value. The predictions are sample from GMM's mode. Attribute `num_samples` ignored."
   ]
  },
  {
   "cell_type": "code",
   "execution_count": 11,
   "id": "temporal-birthday",
   "metadata": {},
   "outputs": [
    {
     "data": {
      "image/png": "[encoded data removed]",
      "text/plain": [
       "<Figure size 864x1080 with 1 Axes>"
      ]
     },
     "metadata": {
      "needs_background": "light"
     },
     "output_type": "display_data"
    }
   ],
   "source": [
    "predictconfig = util.AttrDict(ph=8, num_samples=1, z_mode=False, gmm_mode=True,\n",
    "        full_dist=False, all_z_sep=True, alpha=1)\n",
    "\n",
    "fig, ax = plt.subplots(figsize=(12,15))\n",
    "produce_predictions(ax, scene, timestep, predictconfig, eval_stg, hyp)\n",
    "\n",
    "extent = np.array([0, scene.x_size, 0, scene.y_size])\n",
    "should_zoom_in = True\n",
    "if should_zoom_in:\n",
    "    zoom = np.array([70, 70])\n",
    "    extent += np.array([zoom[0], -zoom[0], zoom[1], -zoom[1]])\n",
    "ax.set_xlim([extent[0], extent[1]])\n",
    "ax.set_ylim([extent[2], extent[3]])\n",
    "None"
   ]
  },
  {
   "cell_type": "markdown",
   "id": "victorian-queens",
   "metadata": {},
   "source": [
    "## Test Evaluation Metrics"
   ]
  },
  {
   "cell_type": "code",
   "execution_count": 12,
   "id": "molecular-catholic",
   "metadata": {},
   "outputs": [],
   "source": [
    "############################\n",
    "# Bag-of-N (BoN) FDE metrics\n",
    "############################\n",
    "\n",
    "def compute_min_FDE(predict, future):\n",
    "    return np.min(np.linalg.norm(predict[...,-1,:] - future[-1], axis=-1))\n",
    "\n",
    "def compute_min_ADE(predict, future):\n",
    "    mean_ades = np.mean(np.linalg.norm(predict - future, axis=-1), axis=-1)\n",
    "    return np.min(mean_ades)\n",
    "\n",
    "def evaluate_scene_BoN(scene, ph, eval_stg, hyp, n_predictions=20, min_fde=True, min_ade=True):\n",
    "    predictconfig = util.AttrDict(ph=ph, num_samples=n_predictions, z_mode=False, gmm_mode=False,\n",
    "            full_dist=False, all_z_sep=False)\n",
    "    max_hl = hyp['maximum_history_length']\n",
    "    with torch.no_grad():\n",
    "        predictions = eval_stg.predict(scene,\n",
    "                np.arange(scene.timesteps), predictconfig.ph,\n",
    "                num_samples=predictconfig.num_samples,\n",
    "                min_future_timesteps=predictconfig.ph,\n",
    "                z_mode=predictconfig.z_mode,\n",
    "                gmm_mode=predictconfig.gmm_mode,\n",
    "                full_dist=predictconfig.full_dist,\n",
    "                all_z_sep=predictconfig.all_z_sep)\n",
    "\n",
    "    prediction_dict, histories_dict, futures_dict = \\\n",
    "        prediction_output_to_trajectories(\n",
    "            predictions, dt=scene.dt, max_h=max_hl, ph=predictconfig.ph, map=None)\n",
    "\n",
    "    batch_metrics = {'min_ade': list(), 'min_fde': list()}\n",
    "    for t in prediction_dict.keys():\n",
    "        for node in prediction_dict[t].keys():\n",
    "            if min_ade:\n",
    "                batch_metrics['min_ade'].append(compute_min_ADE(prediction_dict[t][node], futures_dict[t][node]))\n",
    "            if min_fde:\n",
    "                batch_metrics['min_fde'].append(compute_min_FDE(prediction_dict[t][node], futures_dict[t][node]))\n",
    "    return batch_metrics\n",
    "\n",
    "def evaluate_BoN(env, ph, eval_stg, hyp, n_predictions=20, min_fde=True, min_ade=True):\n",
    "    batch_metrics = {'min_ade': list(), 'min_fde': list()}\n",
    "    prefix = f\"Evaluate Bo{n_predictions} (ph = {ph}): \"\n",
    "    for scene in tqdm(env.scenes, desc=prefix, dynamic_ncols=True, leave=True):\n",
    "        _batch_metrics = evaluate_scene_BoN(scene, ph, eval_stg, hyp,\n",
    "                n_predictions=n_predictions, min_fde=min_fde, min_ade=min_ade)\n",
    "        batch_metrics['min_ade'].extend(_batch_metrics['min_ade'])\n",
    "        batch_metrics['min_fde'].extend(_batch_metrics['min_fde'])\n",
    "    return batch_metrics\n",
    "\n",
    "###############\n",
    "# Other metrics\n",
    "###############\n",
    "\n",
    "def make_interpolate_map(scene):\n",
    "    map =  scene.map['VEHICLE']\n",
    "    obs_map = 1 - np.max(map.data[..., :, :, :], axis=-3) / 255\n",
    "    interp_obs_map = scipy.interpolate.RectBivariateSpline(\n",
    "            range(obs_map.shape[0]),\n",
    "            range(obs_map.shape[1]),\n",
    "            obs_map, kx=1, ky=1)\n",
    "    return interp_obs_map\n",
    "\n",
    "def compute_num_offroad_viols(interp_map, scene_map, predicted_trajs):\n",
    "    \"\"\"Count the number of predicted trajectories that go off the road.\n",
    "    Note this does not count trajectories that go over road/lane dividers.\n",
    "    \n",
    "    Parameters\n",
    "    ==========\n",
    "    interp_map : scipy.interpolate.RectBivariateSpline\n",
    "        Interpolation to get road obstacle indicator value from predicted points.\n",
    "    scene_map : trajectron.environment.GeometricMap\n",
    "        Map transform the predicted points to map coordinates.\n",
    "    predicted_trajs : ndarray\n",
    "        Predicted trajectories of shape (number of predictions, number of timesteps, 2).\n",
    "    \n",
    "    Returns\n",
    "    =======\n",
    "    int\n",
    "        A value between [0, number of predictions].\n",
    "    \"\"\"\n",
    "    old_shape = predicted_trajs.shape\n",
    "    pred_trajs_map = scene_map.to_map_points(predicted_trajs.reshape((-1, 2)))\n",
    "    traj_values = interp_map(pred_trajs_map[:, 0], pred_trajs_map[:, 1], grid=False)\n",
    "    # traj_values has shape (1, num_samples, ph).\n",
    "    traj_values = traj_values.reshape((old_shape[0], old_shape[1], old_shape[2]))\n",
    "    # num_viol_trajs is an integer in [0, num_samples].\n",
    "    return np.sum(traj_values.max(axis=2) > 0, dtype=float)\n",
    "\n",
    "def compute_kde_nll(predicted_trajs, gt_traj):\n",
    "    kde_ll = 0.\n",
    "    log_pdf_lower_bound = -20\n",
    "    num_timesteps = gt_traj.shape[0]\n",
    "    num_batches = predicted_trajs.shape[0]\n",
    "    for batch_num in range(num_batches):\n",
    "        for timestep in range(num_timesteps):\n",
    "            try:\n",
    "                kde = scipy.stats.gaussian_kde(predicted_trajs[batch_num, :, timestep].T)\n",
    "                pdf = kde.logpdf(gt_traj[timestep].T)\n",
    "                pdf = np.clip(kde.logpdf(gt_traj[timestep].T), a_min=log_pdf_lower_bound, a_max=None)[0]\n",
    "                kde_ll += pdf / (num_timesteps * num_batches)\n",
    "            except np.linalg.LinAlgError:\n",
    "                kde_ll = np.nan\n",
    "\n",
    "    return -kde_ll\n",
    "\n",
    "def compute_ade(predicted_trajs, gt_traj):\n",
    "    error = np.linalg.norm(predicted_trajs - gt_traj, axis=-1)\n",
    "    ade = np.mean(error, axis=-1)\n",
    "    return ade.flatten()\n",
    "\n",
    "def compute_fde(predicted_trajs, gt_traj):\n",
    "    final_error = np.linalg.norm(predicted_trajs[:, :, -1] - gt_traj[-1], axis=-1)\n",
    "    return final_error.flatten()\n",
    "\n",
    "########################\n",
    "# Most Likely Evaluation\n",
    "########################\n",
    "\n",
    "def evaluate_scene_most_likely(scene, ph, eval_stg, hyp,\n",
    "            ade=True, fde=True):\n",
    "    predictconfig = util.AttrDict(ph=ph, num_samples=1,\n",
    "            z_mode=True, gmm_mode=True, full_dist=False, all_z_sep=False)\n",
    "    max_hl = hyp['maximum_history_length']\n",
    "    with torch.no_grad():\n",
    "        predictions = eval_stg.predict(scene,\n",
    "                np.arange(scene.timesteps), predictconfig.ph,\n",
    "                num_samples=predictconfig.num_samples,\n",
    "                min_future_timesteps=predictconfig.ph,\n",
    "                z_mode=predictconfig.z_mode,\n",
    "                gmm_mode=predictconfig.gmm_mode,\n",
    "                full_dist=predictconfig.full_dist,\n",
    "                all_z_sep=predictconfig.all_z_sep)\n",
    "\n",
    "    prediction_dict, histories_dict, futures_dict = \\\n",
    "            prediction_output_to_trajectories(\n",
    "                predictions, dt=scene.dt, max_h=max_hl, ph=predictconfig.ph, map=None)\n",
    "\n",
    "    interp_map = make_interpolate_map(scene)\n",
    "    map =  scene.map['VEHICLE']\n",
    "    batch_metrics = {'ade': list(), 'fde': list()}\n",
    "    for t in prediction_dict.keys():\n",
    "        for node in prediction_dict[t].keys():\n",
    "            if ade:\n",
    "                batch_metrics['ade'].extend(\n",
    "                        compute_ade(prediction_dict[t][node], futures_dict[t][node]) )\n",
    "            if fde:\n",
    "                batch_metrics['fde'].extend(\n",
    "                        compute_fde(prediction_dict[t][node], futures_dict[t][node]) )\n",
    "    return batch_metrics\n",
    "\n",
    "def evaluate_most_likely(env, ph, eval_stg, hyp,\n",
    "        ade=True, fde=True):\n",
    "    batch_metrics = {'ade': list(), 'fde': list()}\n",
    "    prefix = f\"Evaluate Most Likely (ph = {ph}): \"\n",
    "    for scene in tqdm(env.scenes, desc=prefix, dynamic_ncols=True, leave=True):\n",
    "        _batch_metrics = evaluate_scene_most_likely(scene, ph, eval_stg, hyp,\n",
    "                ade=ade, fde=fde)\n",
    "        batch_metrics['ade'].extend(_batch_metrics['ade'])\n",
    "        batch_metrics['fde'].extend(_batch_metrics['fde'])\n",
    "    return batch_metrics\n",
    "\n",
    "#################\n",
    "# Full Evaluation\n",
    "#################\n",
    "\n",
    "def evaluate_scene_full(scene, ph, eval_stg, hyp,\n",
    "            ade=True, fde=True, kde=True, offroad_viols=True):\n",
    "    num_samples = 2000\n",
    "    predictconfig = util.AttrDict(ph=ph, num_samples=num_samples,\n",
    "            z_mode=False, gmm_mode=False, full_dist=False, all_z_sep=False)\n",
    "    max_hl = hyp['maximum_history_length']\n",
    "    with torch.no_grad():\n",
    "        predictions = eval_stg.predict(scene,\n",
    "                np.arange(scene.timesteps), predictconfig.ph,\n",
    "                num_samples=predictconfig.num_samples,\n",
    "                min_future_timesteps=predictconfig.ph,\n",
    "                z_mode=predictconfig.z_mode,\n",
    "                gmm_mode=predictconfig.gmm_mode,\n",
    "                full_dist=predictconfig.full_dist,\n",
    "                all_z_sep=predictconfig.all_z_sep)\n",
    "\n",
    "    prediction_dict, histories_dict, futures_dict = \\\n",
    "            prediction_output_to_trajectories(\n",
    "                predictions, dt=scene.dt, max_h=max_hl, ph=predictconfig.ph, map=None)\n",
    "\n",
    "    interp_map = make_interpolate_map(scene)\n",
    "    map =  scene.map['VEHICLE']\n",
    "    batch_metrics = {'ade': list(), 'fde': list(), 'kde': list(), 'offroad_viols': list()}\n",
    "    \n",
    "    for t in prediction_dict.keys():\n",
    "        for node in prediction_dict[t].keys():\n",
    "            if ade:\n",
    "                batch_metrics['ade'].extend(\n",
    "                        compute_ade(prediction_dict[t][node], futures_dict[t][node]) )\n",
    "            if fde:\n",
    "                batch_metrics['fde'].extend(\n",
    "                        compute_fde(prediction_dict[t][node], futures_dict[t][node]) )\n",
    "            if offroad_viols:\n",
    "                batch_metrics['offroad_viols'].extend(\n",
    "                        [ compute_num_offroad_viols(interp_map, map, prediction_dict[t][node]) / float(num_samples) ])\n",
    "            if kde:\n",
    "                batch_metrics['kde'].extend(\n",
    "                        [ compute_kde_nll(prediction_dict[t][node], futures_dict[t][node]) ])\n",
    "    return batch_metrics\n",
    "\n",
    "def evaluate_full(env, ph, eval_stg, hyp,\n",
    "        ade=True, fde=True, kde=True, offroad_viols=True):\n",
    "    batch_metrics = {'ade': list(), 'fde': list(), 'kde': list(), 'offroad_viols': list()}\n",
    "    prefix = f\"Evaluate Full (ph = {ph}): \"\n",
    "    for scene in tqdm(env.scenes, desc=prefix, dynamic_ncols=True, leave=True):\n",
    "        _batch_metrics = evaluate_scene_full(scene, ph, eval_stg, hyp,\n",
    "                ade=ade, fde=fde, kde=kde, offroad_viols=offroad_viols)\n",
    "        batch_metrics['ade'].extend(_batch_metrics['ade'])\n",
    "        batch_metrics['fde'].extend(_batch_metrics['fde'])\n",
    "        batch_metrics['kde'].extend(_batch_metrics['kde'])\n",
    "        batch_metrics['offroad_viols'].extend(_batch_metrics['offroad_viols'])\n",
    "    return batch_metrics"
   ]
  },
  {
   "cell_type": "code",
   "execution_count": 14,
   "id": "charitable-audio",
   "metadata": {},
   "outputs": [
    {
     "name": "stderr",
     "output_type": "stream",
     "text": [
      "Evaluate Bo20 (ph = 2): 100%|██████████| 60/60 [01:13<00:00,  1.22s/it]\n",
      "/home/fireofearth/.local/miniconda3/envs/trajectron-cplex/lib/python3.6/site-packages/tables/path.py:155: NaturalNameWarning: object name is not a valid Python identifier: '20210816'; it does not match the pattern ``^[a-zA-Z_][a-zA-Z0-9_]*$``; you will not be able to use natural naming to access this object; using ``getattr()`` will still work, though\n",
      "  check_attribute_name(name)\n",
      "/home/fireofearth/.local/miniconda3/envs/trajectron-cplex/lib/python3.6/site-packages/tables/path.py:155: NaturalNameWarning: object name is not a valid Python identifier: 'models_17_Aug_2021_13_25_38_carla_v3-1-2_base_distmapV4_modfm_K15_ph8'; it does not match the pattern ``^[a-zA-Z_][a-zA-Z0-9_]*$``; you will not be able to use natural naming to access this object; using ``getattr()`` will still work, though\n",
      "  check_attribute_name(name)\n",
      "Evaluate Bo20 (ph = 4): 100%|██████████| 60/60 [01:06<00:00,  1.11s/it]\n",
      "Evaluate Bo20 (ph = 6): 100%|██████████| 60/60 [01:01<00:00,  1.03s/it]\n",
      "Evaluate Bo20 (ph = 8): 100%|██████████| 60/60 [00:56<00:00,  1.07it/s]\n"
     ]
    }
   ],
   "source": [
    "dataset_id = '/'.join(model.path.split('/')[-2:] + ['BoN'])\n",
    "\n",
    "with pd.HDFStore('test.h5', 'a') as s:\n",
    "    for ph in [2,4,6,8]:\n",
    "        batch_metrics = evaluate_BoN(eval_env, ph, eval_stg, hyp)\n",
    "        df = pd.DataFrame(batch_metrics)\n",
    "        df['ph'] = ph\n",
    "        s.put(dataset_id, df, format='t', append=True, data_columns=True)"
   ]
  },
  {
   "cell_type": "code",
   "execution_count": 13,
   "id": "ancient-specialist",
   "metadata": {},
   "outputs": [
    {
     "name": "stdout",
     "output_type": "stream",
     "text": [
      "/20210816/models_17_Aug_2021_13_25_38_carla_v3-1-2_base_distmapV4_modfm_K15_ph8/BoN /20210816/models_17_Aug_2021_13_25_38_carla_v3-1-2_base_distmapV4_modfm_K15_ph8/ML\n",
      "Columns are min_ade min_fde ph\n",
      "        min_ade   min_fde  ph\n",
      "0      0.005277  0.003977   2\n",
      "1      0.048575  0.049192   2\n",
      "2      0.003805  0.003530   2\n",
      "3      0.012061  0.009768   2\n",
      "4      0.006130  0.002093   2\n",
      "...         ...       ...  ..\n",
      "14050  0.790948  1.116315   8\n",
      "14051  0.004994  0.005436   8\n",
      "14052  0.004728  0.005640   8\n",
      "14053  0.008820  0.014377   8\n",
      "14054  0.002915  0.002830   8\n",
      "\n",
      "[67445 rows x 3 columns]\n"
     ]
    }
   ],
   "source": [
    "dataset_id = '/'.join(model.path.split('/')[-2:] + ['BoN'])\n",
    "with pd.HDFStore('test.h5', 'r') as s:\n",
    "    print(*s.keys())\n",
    "    print(\"Columns are\", *s[dataset_id].columns)\n",
    "    print(s[dataset_id])"
   ]
  },
  {
   "cell_type": "code",
   "execution_count": 14,
   "id": "modern-blanket",
   "metadata": {},
   "outputs": [
    {
     "name": "stdout",
     "output_type": "stream",
     "text": [
      "Bag-of-20 FDE is 0.5554576641166195\n"
     ]
    },
    {
     "data": {
      "image/png": "[encoded data removed]",
      "text/plain": [
       "<Figure size 432x288 with 1 Axes>"
      ]
     },
     "metadata": {
      "needs_background": "light"
     },
     "output_type": "display_data"
    }
   ],
   "source": [
    "dataset_id = '/'.join(model.path.split('/')[-2:] + ['BoN'])\n",
    "with pd.HDFStore('test.h5', 'r') as s:\n",
    "    df = s[dataset_id]\n",
    "    df = df[df['ph'] == 8]\n",
    "    print(f\"Bag-of-20 FDE is {np.mean(df['min_fde'])}\")\n",
    "    plt.hist(df['min_fde'], bins=100)"
   ]
  },
  {
   "cell_type": "code",
   "execution_count": 14,
   "id": "cubic-smile",
   "metadata": {},
   "outputs": [
    {
     "name": "stderr",
     "output_type": "stream",
     "text": [
      "Evaluate Most Likely (ph = 2): 100%|██████████| 60/60 [01:10<00:00,  1.17s/it]\n",
      "Evaluate Most Likely (ph = 4): 100%|██████████| 60/60 [01:08<00:00,  1.14s/it]\n",
      "Evaluate Most Likely (ph = 6): 100%|██████████| 60/60 [00:59<00:00,  1.01it/s]\n",
      "Evaluate Most Likely (ph = 8): 100%|██████████| 60/60 [00:52<00:00,  1.13it/s]\n"
     ]
    }
   ],
   "source": [
    "dataset_id = '/'.join(model.path.split('/')[-2:] + ['ML'])\n",
    "\n",
    "with pd.HDFStore('test.h5', 'a') as s:\n",
    "    for ph in [2,4,6,8]:\n",
    "        batch_metrics = evaluate_most_likely(eval_env, ph, eval_stg, hyp)\n",
    "        df = pd.DataFrame(batch_metrics)\n",
    "        df['ph'] = ph\n",
    "        s.put(dataset_id, df, format='t', append=True, data_columns=True)"
   ]
  },
  {
   "cell_type": "code",
   "execution_count": 23,
   "id": "alike-simple",
   "metadata": {},
   "outputs": [
    {
     "name": "stdout",
     "output_type": "stream",
     "text": [
      "Bag-of-20 FDE is 2.130834820912333\n"
     ]
    },
    {
     "data": {
      "image/png": "[encoded data removed]",
      "text/plain": [
       "<Figure size 432x288 with 1 Axes>"
      ]
     },
     "metadata": {
      "needs_background": "light"
     },
     "output_type": "display_data"
    }
   ],
   "source": [
    "dataset_id = '/'.join(model.path.split('/')[-2:] + ['ML'])\n",
    "with pd.HDFStore('test.h5', 'r') as s:\n",
    "    df = s[dataset_id]\n",
    "    df = df[df['ph'] == 8]\n",
    "    print(f\"Bag-of-20 FDE is {np.mean(df['fde'])}\")\n",
    "    plt.hist(df['fde'], bins=100)"
   ]
  },
  {
   "cell_type": "code",
   "execution_count": 13,
   "id": "subjective-maximum",
   "metadata": {},
   "outputs": [
    {
     "name": "stderr",
     "output_type": "stream",
     "text": [
      "Evaluate Full (ph = 8): 100%|██████████| 60/60 [12:54<00:00, 12.91s/it]\n"
     ]
    }
   ],
   "source": [
    "batch_metrics = evaluate_full(eval_env, 8, eval_stg, hyp)"
   ]
  },
  {
   "cell_type": "code",
   "execution_count": 19,
   "id": "wired-james",
   "metadata": {},
   "outputs": [
    {
     "data": {
      "text/plain": [
       "(28110000, 28110000, 14055, 14055)"
      ]
     },
     "execution_count": 19,
     "metadata": {},
     "output_type": "execute_result"
    }
   ],
   "source": [
    "len(batch_metrics['fde']), len( batch_metrics['ade'] ), len(batch_metrics['kde']),\\\n",
    "    len( batch_metrics['offroad_viols'] )"
   ]
  },
  {
   "cell_type": "code",
   "execution_count": 20,
   "id": "subject-yorkshire",
   "metadata": {},
   "outputs": [
    {
     "name": "stderr",
     "output_type": "stream",
     "text": [
      "Evaluate Full (ph = 2): 100%|██████████| 60/60 [06:18<00:00,  6.31s/it]\n"
     ]
    },
    {
     "ename": "ValueError",
     "evalue": "arrays must all be same length",
     "output_type": "error",
     "traceback": [
      "\u001b[0;31m---------------------------------------------------------------------------\u001b[0m",
      "\u001b[0;31mValueError\u001b[0m                                Traceback (most recent call last)",
      "\u001b[0;32m<ipython-input-20-5459ac346a50>\u001b[0m in \u001b[0;36m<module>\u001b[0;34m\u001b[0m\n\u001b[1;32m      4\u001b[0m     \u001b[0;32mfor\u001b[0m \u001b[0mph\u001b[0m \u001b[0;32min\u001b[0m \u001b[0;34m[\u001b[0m\u001b[0;36m2\u001b[0m\u001b[0;34m,\u001b[0m\u001b[0;36m4\u001b[0m\u001b[0;34m,\u001b[0m\u001b[0;36m6\u001b[0m\u001b[0;34m,\u001b[0m\u001b[0;36m8\u001b[0m\u001b[0;34m]\u001b[0m\u001b[0;34m:\u001b[0m\u001b[0;34m\u001b[0m\u001b[0;34m\u001b[0m\u001b[0m\n\u001b[1;32m      5\u001b[0m         \u001b[0mbatch_metrics\u001b[0m \u001b[0;34m=\u001b[0m \u001b[0mevaluate_full\u001b[0m\u001b[0;34m(\u001b[0m\u001b[0meval_env\u001b[0m\u001b[0;34m,\u001b[0m \u001b[0mph\u001b[0m\u001b[0;34m,\u001b[0m \u001b[0meval_stg\u001b[0m\u001b[0;34m,\u001b[0m \u001b[0mhyp\u001b[0m\u001b[0;34m)\u001b[0m\u001b[0;34m\u001b[0m\u001b[0;34m\u001b[0m\u001b[0m\n\u001b[0;32m----> 6\u001b[0;31m         \u001b[0mdf\u001b[0m \u001b[0;34m=\u001b[0m \u001b[0mpd\u001b[0m\u001b[0;34m.\u001b[0m\u001b[0mDataFrame\u001b[0m\u001b[0;34m(\u001b[0m\u001b[0mbatch_metrics\u001b[0m\u001b[0;34m)\u001b[0m\u001b[0;34m\u001b[0m\u001b[0;34m\u001b[0m\u001b[0m\n\u001b[0m\u001b[1;32m      7\u001b[0m         \u001b[0mdf\u001b[0m\u001b[0;34m[\u001b[0m\u001b[0;34m'ph'\u001b[0m\u001b[0;34m]\u001b[0m \u001b[0;34m=\u001b[0m \u001b[0mph\u001b[0m\u001b[0;34m\u001b[0m\u001b[0;34m\u001b[0m\u001b[0m\n\u001b[1;32m      8\u001b[0m         \u001b[0ms\u001b[0m\u001b[0;34m.\u001b[0m\u001b[0mput\u001b[0m\u001b[0;34m(\u001b[0m\u001b[0mdataset_id\u001b[0m\u001b[0;34m,\u001b[0m \u001b[0mdf\u001b[0m\u001b[0;34m,\u001b[0m \u001b[0mformat\u001b[0m\u001b[0;34m=\u001b[0m\u001b[0;34m't'\u001b[0m\u001b[0;34m,\u001b[0m \u001b[0mappend\u001b[0m\u001b[0;34m=\u001b[0m\u001b[0;32mTrue\u001b[0m\u001b[0;34m,\u001b[0m \u001b[0mdata_columns\u001b[0m\u001b[0;34m=\u001b[0m\u001b[0;32mTrue\u001b[0m\u001b[0;34m)\u001b[0m\u001b[0;34m\u001b[0m\u001b[0;34m\u001b[0m\u001b[0m\n",
      "\u001b[0;32m~/.local/miniconda3/envs/trajectron-cplex/lib/python3.6/site-packages/pandas/core/frame.py\u001b[0m in \u001b[0;36m__init__\u001b[0;34m(self, data, index, columns, dtype, copy)\u001b[0m\n\u001b[1;32m    409\u001b[0m             )\n\u001b[1;32m    410\u001b[0m         \u001b[0;32melif\u001b[0m \u001b[0misinstance\u001b[0m\u001b[0;34m(\u001b[0m\u001b[0mdata\u001b[0m\u001b[0;34m,\u001b[0m \u001b[0mdict\u001b[0m\u001b[0;34m)\u001b[0m\u001b[0;34m:\u001b[0m\u001b[0;34m\u001b[0m\u001b[0;34m\u001b[0m\u001b[0m\n\u001b[0;32m--> 411\u001b[0;31m             \u001b[0mmgr\u001b[0m \u001b[0;34m=\u001b[0m \u001b[0minit_dict\u001b[0m\u001b[0;34m(\u001b[0m\u001b[0mdata\u001b[0m\u001b[0;34m,\u001b[0m \u001b[0mindex\u001b[0m\u001b[0;34m,\u001b[0m \u001b[0mcolumns\u001b[0m\u001b[0;34m,\u001b[0m \u001b[0mdtype\u001b[0m\u001b[0;34m=\u001b[0m\u001b[0mdtype\u001b[0m\u001b[0;34m)\u001b[0m\u001b[0;34m\u001b[0m\u001b[0;34m\u001b[0m\u001b[0m\n\u001b[0m\u001b[1;32m    412\u001b[0m         \u001b[0;32melif\u001b[0m \u001b[0misinstance\u001b[0m\u001b[0;34m(\u001b[0m\u001b[0mdata\u001b[0m\u001b[0;34m,\u001b[0m \u001b[0mma\u001b[0m\u001b[0;34m.\u001b[0m\u001b[0mMaskedArray\u001b[0m\u001b[0;34m)\u001b[0m\u001b[0;34m:\u001b[0m\u001b[0;34m\u001b[0m\u001b[0;34m\u001b[0m\u001b[0m\n\u001b[1;32m    413\u001b[0m             \u001b[0;32mimport\u001b[0m \u001b[0mnumpy\u001b[0m\u001b[0;34m.\u001b[0m\u001b[0mma\u001b[0m\u001b[0;34m.\u001b[0m\u001b[0mmrecords\u001b[0m \u001b[0;32mas\u001b[0m \u001b[0mmrecords\u001b[0m\u001b[0;34m\u001b[0m\u001b[0;34m\u001b[0m\u001b[0m\n",
      "\u001b[0;32m~/.local/miniconda3/envs/trajectron-cplex/lib/python3.6/site-packages/pandas/core/internals/construction.py\u001b[0m in \u001b[0;36minit_dict\u001b[0;34m(data, index, columns, dtype)\u001b[0m\n\u001b[1;32m    255\u001b[0m             \u001b[0marr\u001b[0m \u001b[0;32mif\u001b[0m \u001b[0;32mnot\u001b[0m \u001b[0mis_datetime64tz_dtype\u001b[0m\u001b[0;34m(\u001b[0m\u001b[0marr\u001b[0m\u001b[0;34m)\u001b[0m \u001b[0;32melse\u001b[0m \u001b[0marr\u001b[0m\u001b[0;34m.\u001b[0m\u001b[0mcopy\u001b[0m\u001b[0;34m(\u001b[0m\u001b[0;34m)\u001b[0m \u001b[0;32mfor\u001b[0m \u001b[0marr\u001b[0m \u001b[0;32min\u001b[0m \u001b[0marrays\u001b[0m\u001b[0;34m\u001b[0m\u001b[0;34m\u001b[0m\u001b[0m\n\u001b[1;32m    256\u001b[0m         ]\n\u001b[0;32m--> 257\u001b[0;31m     \u001b[0;32mreturn\u001b[0m \u001b[0marrays_to_mgr\u001b[0m\u001b[0;34m(\u001b[0m\u001b[0marrays\u001b[0m\u001b[0;34m,\u001b[0m \u001b[0mdata_names\u001b[0m\u001b[0;34m,\u001b[0m \u001b[0mindex\u001b[0m\u001b[0;34m,\u001b[0m \u001b[0mcolumns\u001b[0m\u001b[0;34m,\u001b[0m \u001b[0mdtype\u001b[0m\u001b[0;34m=\u001b[0m\u001b[0mdtype\u001b[0m\u001b[0;34m)\u001b[0m\u001b[0;34m\u001b[0m\u001b[0;34m\u001b[0m\u001b[0m\n\u001b[0m\u001b[1;32m    258\u001b[0m \u001b[0;34m\u001b[0m\u001b[0m\n\u001b[1;32m    259\u001b[0m \u001b[0;34m\u001b[0m\u001b[0m\n",
      "\u001b[0;32m~/.local/miniconda3/envs/trajectron-cplex/lib/python3.6/site-packages/pandas/core/internals/construction.py\u001b[0m in \u001b[0;36marrays_to_mgr\u001b[0;34m(arrays, arr_names, index, columns, dtype)\u001b[0m\n\u001b[1;32m     75\u001b[0m     \u001b[0;31m# figure out the index, if necessary\u001b[0m\u001b[0;34m\u001b[0m\u001b[0;34m\u001b[0m\u001b[0;34m\u001b[0m\u001b[0m\n\u001b[1;32m     76\u001b[0m     \u001b[0;32mif\u001b[0m \u001b[0mindex\u001b[0m \u001b[0;32mis\u001b[0m \u001b[0;32mNone\u001b[0m\u001b[0;34m:\u001b[0m\u001b[0;34m\u001b[0m\u001b[0;34m\u001b[0m\u001b[0m\n\u001b[0;32m---> 77\u001b[0;31m         \u001b[0mindex\u001b[0m \u001b[0;34m=\u001b[0m \u001b[0mextract_index\u001b[0m\u001b[0;34m(\u001b[0m\u001b[0marrays\u001b[0m\u001b[0;34m)\u001b[0m\u001b[0;34m\u001b[0m\u001b[0;34m\u001b[0m\u001b[0m\n\u001b[0m\u001b[1;32m     78\u001b[0m     \u001b[0;32melse\u001b[0m\u001b[0;34m:\u001b[0m\u001b[0;34m\u001b[0m\u001b[0;34m\u001b[0m\u001b[0m\n\u001b[1;32m     79\u001b[0m         \u001b[0mindex\u001b[0m \u001b[0;34m=\u001b[0m \u001b[0mensure_index\u001b[0m\u001b[0;34m(\u001b[0m\u001b[0mindex\u001b[0m\u001b[0;34m)\u001b[0m\u001b[0;34m\u001b[0m\u001b[0;34m\u001b[0m\u001b[0m\n",
      "\u001b[0;32m~/.local/miniconda3/envs/trajectron-cplex/lib/python3.6/site-packages/pandas/core/internals/construction.py\u001b[0m in \u001b[0;36mextract_index\u001b[0;34m(data)\u001b[0m\n\u001b[1;32m    366\u001b[0m             \u001b[0mlengths\u001b[0m \u001b[0;34m=\u001b[0m \u001b[0mlist\u001b[0m\u001b[0;34m(\u001b[0m\u001b[0mset\u001b[0m\u001b[0;34m(\u001b[0m\u001b[0mraw_lengths\u001b[0m\u001b[0;34m)\u001b[0m\u001b[0;34m)\u001b[0m\u001b[0;34m\u001b[0m\u001b[0;34m\u001b[0m\u001b[0m\n\u001b[1;32m    367\u001b[0m             \u001b[0;32mif\u001b[0m \u001b[0mlen\u001b[0m\u001b[0;34m(\u001b[0m\u001b[0mlengths\u001b[0m\u001b[0;34m)\u001b[0m \u001b[0;34m>\u001b[0m \u001b[0;36m1\u001b[0m\u001b[0;34m:\u001b[0m\u001b[0;34m\u001b[0m\u001b[0;34m\u001b[0m\u001b[0m\n\u001b[0;32m--> 368\u001b[0;31m                 \u001b[0;32mraise\u001b[0m \u001b[0mValueError\u001b[0m\u001b[0;34m(\u001b[0m\u001b[0;34m\"arrays must all be same length\"\u001b[0m\u001b[0;34m)\u001b[0m\u001b[0;34m\u001b[0m\u001b[0;34m\u001b[0m\u001b[0m\n\u001b[0m\u001b[1;32m    369\u001b[0m \u001b[0;34m\u001b[0m\u001b[0m\n\u001b[1;32m    370\u001b[0m             \u001b[0;32mif\u001b[0m \u001b[0mhave_dicts\u001b[0m\u001b[0;34m:\u001b[0m\u001b[0;34m\u001b[0m\u001b[0;34m\u001b[0m\u001b[0m\n",
      "\u001b[0;31mValueError\u001b[0m: arrays must all be same length"
     ]
    }
   ],
   "source": [
    "dataset_id = '/'.join(model.path.split('/')[-2:] + ['Full'])\n",
    "\n",
    "with pd.HDFStore('test.h5', 'a') as s:\n",
    "    for ph in [2,4,6,8]:\n",
    "        batch_metrics = evaluate_full(eval_env, ph, eval_stg, hyp)\n",
    "        df = pd.DataFrame(batch_metrics)\n",
    "        df['ph'] = ph\n",
    "        s.put(dataset_id, df, format='t', append=True, data_columns=True)"
   ]
  },
  {
   "cell_type": "code",
   "execution_count": 31,
   "id": "optional-nightlife",
   "metadata": {},
   "outputs": [
    {
     "data": {
      "text/plain": [
       "0.016115384615384618"
      ]
     },
     "execution_count": 31,
     "metadata": {},
     "output_type": "execute_result"
    }
   ],
   "source": [
    "np.mean(batch_metrics['offroad_viols'])"
   ]
  },
  {
   "cell_type": "code",
   "execution_count": 81,
   "id": "polyphonic-involvement",
   "metadata": {},
   "outputs": [
    {
     "name": "stdout",
     "output_type": "stream",
     "text": [
      "Off-road viols is 0.0486957310565635\n"
     ]
    },
    {
     "data": {
      "image/png": "[encoded data removed]",
      "text/plain": [
       "<Figure size 432x288 with 1 Axes>"
      ]
     },
     "metadata": {
      "needs_background": "light"
     },
     "output_type": "display_data"
    }
   ],
   "source": [
    "print(f\"Off-road viols is {np.mean(offroad_viols)}\")\n",
    "plt.hist(offroad_viols, bins=100)\n",
    "None"
   ]
  },
  {
   "cell_type": "markdown",
   "id": "cardiac-maria",
   "metadata": {},
   "source": [
    "Getting score summaries after the fact"
   ]
  },
  {
   "cell_type": "code",
   "execution_count": null,
   "id": "advised-sleeping",
   "metadata": {},
   "outputs": [],
   "source": [
    "PREDICTION_HORIZONS = [2,4,6,8]\n",
    "RESULTS_FILENAMES = ['results_test20210801.h5']\n",
    "scores = {}\n",
    "\n",
    "for h5_filename in RESULTS_FILENAMES:\n",
    "    with pd.HDFStore(h5_filename, 'r') as store:\n",
    "        for key in store.keys():\n",
    "            key_fragments = key.split('/')[1:]\n",
    "            # for example\n",
    "            # dataset_name v3-1-1_split1_test\n",
    "            # experiment_name 20210816\n",
    "            # model_name models_17_Aug_2021_13_25_38_carla_v3-1-2_base_distmapV4_modfm_K15_ph8\n",
    "            # score_type BoN\n",
    "            dataset_name, experiment_name, model_name, score_type = key_fragments\n",
    "            experiment_name = f\"{experiment_name}/{dataset_name}\"\n",
    "            if experiment_name not in scores:\n",
    "                scores[experiment_name] = {}\n",
    "            if model_name not in scores[experiment_name]:\n",
    "                scores[experiment_name][model_name] = {}\n",
    "            for ph in PREDICTION_HORIZONS:\n",
    "                if ph not in scores[experiment_name][model_name]:\n",
    "                    scores[experiment_name][model_name][ph] = {}\n",
    "                df = store[key][store[key]['ph'] == ph]\n",
    "                if score_type == 'BoN':\n",
    "                    scores[experiment_name][model_name][ph]['min_ade'] = df['min_ade'].mean()\n",
    "                    scores[experiment_name][model_name][ph]['min_fde'] = df['min_fde'].mean()\n",
    "                elif score_type == 'ML':\n",
    "                    scores[experiment_name][model_name][ph]['ade_ml'] = df['ade'].mean()\n",
    "                    scores[experiment_name][model_name][ph]['fde_ml'] = df['fde'].mean()\n",
    "                elif score_type == 'Full':\n",
    "                    scores[experiment_name][model_name][ph]['ade'] = df['ade'].mean()\n",
    "                    scores[experiment_name][model_name][ph]['fde'] = df['fde'].mean()\n",
    "                elif score_type == 'Other':\n",
    "                    scores[experiment_name][model_name][ph]['kde'] = df['kde'].mean()\n",
    "                    scores[experiment_name][model_name][ph]['offroad_viols'] = df['offroad_viols'].mean()\n",
    "                else:\n",
    "                    raise Exception(f\"Score type {score_type} is not recognized.\")"
   ]
  },
  {
   "cell_type": "markdown",
   "id": "historic-shield",
   "metadata": {},
   "source": [
    "## Off-road violations metric"
   ]
  },
  {
   "cell_type": "markdown",
   "id": "identical-edward",
   "metadata": {},
   "source": [
    "Off-road violations metric: for each vehicle, for each starting timestep, get the number of predictions that went off the road."
   ]
  },
  {
   "cell_type": "code",
   "execution_count": 75,
   "id": "formal-butterfly",
   "metadata": {
    "scrolled": true
   },
   "outputs": [
    {
     "name": "stdout",
     "output_type": "stream",
     "text": [
      "(1, 2000, 8)\n"
     ]
    }
   ],
   "source": [
    "predictconfig = util.AttrDict(ph=8, num_samples=2000, z_mode=False, gmm_mode=False,\n",
    "        full_dist=False, all_z_sep=False, show_predictions=True)\n",
    "\n",
    "max_hl = hyp['maximum_history_length']\n",
    "with torch.no_grad():\n",
    "    predictions = eval_stg.predict(scene,\n",
    "            np.arange(scene.timesteps), predictconfig.ph,\n",
    "            num_samples=predictconfig.num_samples,\n",
    "            min_future_timesteps=predictconfig.ph,\n",
    "            z_mode=predictconfig.z_mode,\n",
    "            gmm_mode=predictconfig.gmm_mode,\n",
    "            full_dist=predictconfig.full_dist,\n",
    "            all_z_sep=predictconfig.all_z_sep)\n",
    "\n",
    "prediction_dict, histories_dict, futures_dict = \\\n",
    "        prediction_output_to_trajectories(\n",
    "            predictions, dt=scene.dt, max_h=max_hl, ph=predictconfig.ph, map=None)\n",
    "\n",
    "map =  scene.map['VEHICLE']\n",
    "obs_map = np.max(map.data[..., :, :, :], axis=-3)\n",
    "obs_map = 1 - obs_map / 255\n",
    "\n",
    "interp_obs_map = scipy.interpolate.RectBivariateSpline(\n",
    "        range(obs_map.shape[0]),\n",
    "        range(obs_map.shape[1]),\n",
    "        obs_map, kx=1, ky=1)\n",
    "\n",
    "obs_viols = []\n",
    "for t in prediction_dict.keys():\n",
    "    for node in prediction_dict[t].keys():\n",
    "        \n",
    "        # compute_road_violations()\n",
    "        predicted_trajs = prediction_dict[t][node]\n",
    "        old_shape = predicted_trajs.shape\n",
    "        \n",
    "        pred_trajs_map = map.to_map_points(predicted_trajs.reshape((-1, 2)))\n",
    "        obs_map[tuple(pred_trajs_map.astype(int).T)] = 0.5\n",
    "        \n",
    "        traj_obs_values = interp_obs_map(pred_trajs_map[:, 0], pred_trajs_map[:, 1], grid=False)\n",
    "        traj_obs_values = traj_obs_values.reshape((old_shape[0], old_shape[1], old_shape[2]))\n",
    "        num_viol_trajs = np.sum(traj_obs_values.max(axis=2) > 0, dtype=float)\n",
    "        obs_viols.append(num_viol_trajs)\n",
    "\n",
    "should_plot = False\n",
    "if should_plot:\n",
    "    fig, ax = plt.subplots(figsize=(15, 15))\n",
    "    ax.imshow(obs_map)"
   ]
  },
  {
   "cell_type": "code",
   "execution_count": 62,
   "id": "floppy-signal",
   "metadata": {},
   "outputs": [
    {
     "name": "stdout",
     "output_type": "stream",
     "text": [
      "Count Off-road violations 84.3312693498452\n"
     ]
    },
    {
     "data": {
      "image/png": "[encoded data removed]",
      "text/plain": [
       "<Figure size 432x288 with 1 Axes>"
      ]
     },
     "metadata": {
      "needs_background": "light"
     },
     "output_type": "display_data"
    }
   ],
   "source": [
    "print(f\"Count Off-road violations {np.mean(obs_viols)}\")\n",
    "plt.hist(obs_viols, bins=100)\n",
    "None"
   ]
  },
  {
   "cell_type": "markdown",
   "id": "solid-corporation",
   "metadata": {},
   "source": [
    "Compute Evaluation Metrics"
   ]
  },
  {
   "cell_type": "code",
   "execution_count": null,
   "id": "stuffed-killer",
   "metadata": {},
   "outputs": [],
   "source": []
  }
 ],
 "metadata": {
  "kernelspec": {
   "display_name": "Python 3",
   "language": "python",
   "name": "python3"
  },
  "language_info": {
   "codemirror_mode": {
    "name": "ipython",
    "version": 3
   },
   "file_extension": ".py",
   "mimetype": "text/x-python",
   "name": "python",
   "nbconvert_exporter": "python",
   "pygments_lexer": "ipython3",
   "version": "3.6.12"
  }
 },
 "nbformat": 4,
 "nbformat_minor": 5
}
